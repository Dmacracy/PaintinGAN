{
 "cells": [
  {
   "cell_type": "code",
   "execution_count": 1,
   "metadata": {},
   "outputs": [],
   "source": [
    "%matplotlib inline\n",
    "#imports\n",
    "import os\n",
    "import random\n",
    "import pandas as pd\n",
    "import numpy as np\n",
    "import cv2\n",
    "import shutil\n",
    "import collections\n",
    "from matplotlib import pyplot as plt\n",
    "from sentence_transformers import SentenceTransformer\n",
    "#model = SentenceTransformer('bert-base-nli-mean-tokens')"
   ]
  },
  {
   "cell_type": "code",
   "execution_count": 2,
   "metadata": {},
   "outputs": [],
   "source": [
    "dataPath = \"../Data/MET/\"\n",
    "GANDataPath = \"../Data/CelebA\"\n",
    "data = pd.read_csv(\"../Data/MET/works_downloaded.csv\", sep=\"\\t\")"
   ]
  },
  {
   "cell_type": "code",
   "execution_count": 3,
   "metadata": {},
   "outputs": [],
   "source": [
    "data[\"Tags\"].fillna(\"\", inplace=True)"
   ]
  },
  {
   "cell_type": "code",
   "execution_count": 4,
   "metadata": {},
   "outputs": [],
   "source": [
    "data[\"TagList\"] = data[\"Tags\"].apply(lambda x : x.lower().split(\"|\"))"
   ]
  },
  {
   "cell_type": "code",
   "execution_count": 5,
   "metadata": {},
   "outputs": [],
   "source": [
    "data.drop(data[data[\"Filename\"].duplicated()].index.tolist(), inplace=True)"
   ]
  },
  {
   "cell_type": "code",
   "execution_count": 26,
   "metadata": {},
   "outputs": [],
   "source": [
    "def get_top_tags(data, thresh=20):\n",
    "    count = collections.Counter()\n",
    "    for taglist in data[\"TagList\"].tolist():\n",
    "        for tag in taglist:\n",
    "            count[tag] += 1\n",
    "    top_tags = []\n",
    "    for tag in count.most_common():\n",
    "        if tag[1] >= thresh:\n",
    "            top_tags.append(tag[0])\n",
    "    return top_tags, count"
   ]
  },
  {
   "cell_type": "code",
   "execution_count": 30,
   "metadata": {},
   "outputs": [],
   "source": [
    "#top_tags, count = get_top_tags(data, thresh=20)"
   ]
  },
  {
   "cell_type": "code",
   "execution_count": 31,
   "metadata": {},
   "outputs": [],
   "source": [
    "# for tag, val in count.most_common():\n",
    "#     print(\"|\" + tag + \"|\" + str(val) + \"|\")"
   ]
  },
  {
   "cell_type": "code",
   "execution_count": null,
   "metadata": {},
   "outputs": [],
   "source": [
    "#top_tags[12]"
   ]
  },
  {
   "cell_type": "code",
   "execution_count": 8,
   "metadata": {},
   "outputs": [],
   "source": [
    "def tag_vector(top_tags, tags):\n",
    "    tagvect = np.zeros(len(top_tags))\n",
    "    for tag in tags:\n",
    "        if tag in top_tags:\n",
    "            i = top_tags.index(tag)\n",
    "            tagvect[i] = 1\n",
    "    return tagvect"
   ]
  },
  {
   "cell_type": "code",
   "execution_count": 9,
   "metadata": {},
   "outputs": [],
   "source": [
    "data[\"TagVect\"] = data[\"TagList\"].apply(lambda x: tag_vector(top_tags, x))"
   ]
  },
  {
   "cell_type": "code",
   "execution_count": null,
   "metadata": {},
   "outputs": [],
   "source": [
    "# domCol = get_dom_col(dataPath, 'ap40.144.jpg', quant=20)\n",
    "# colImg = (np.ones((500, 500, 3)) * domCol * 255).astype('uint8')\n",
    "# plt.axis(\"off\")\n",
    "# colImg = cv2.cvtColor(colImg, cv2.COLOR_RGB2BGR)\n",
    "# cv2.imwrite(\"col.jpg\", colImg)\n",
    "# plt.imshow(colImg)"
   ]
  },
  {
   "cell_type": "code",
   "execution_count": 33,
   "metadata": {},
   "outputs": [
    {
     "data": {
      "text/plain": [
       "1781"
      ]
     },
     "execution_count": 33,
     "metadata": {},
     "output_type": "execute_result"
    }
   ],
   "source": [
    "len(data)"
   ]
  },
  {
   "cell_type": "code",
   "execution_count": 32,
   "metadata": {},
   "outputs": [
    {
     "data": {
      "text/html": [
       "<div>\n",
       "<style scoped>\n",
       "    .dataframe tbody tr th:only-of-type {\n",
       "        vertical-align: middle;\n",
       "    }\n",
       "\n",
       "    .dataframe tbody tr th {\n",
       "        vertical-align: top;\n",
       "    }\n",
       "\n",
       "    .dataframe thead th {\n",
       "        text-align: right;\n",
       "    }\n",
       "</style>\n",
       "<table border=\"1\" class=\"dataframe\">\n",
       "  <thead>\n",
       "    <tr style=\"text-align: right;\">\n",
       "      <th></th>\n",
       "      <th>Filename</th>\n",
       "      <th>Title</th>\n",
       "      <th>Artist</th>\n",
       "      <th>Medium</th>\n",
       "      <th>Tags</th>\n",
       "      <th>MET_Object_ID</th>\n",
       "      <th>Description</th>\n",
       "      <th>TagList</th>\n",
       "      <th>TagVect</th>\n",
       "    </tr>\n",
       "  </thead>\n",
       "  <tbody>\n",
       "    <tr>\n",
       "      <th>19</th>\n",
       "      <td>ap40.144.jpg</td>\n",
       "      <td>Mrs. William Loring Andrews</td>\n",
       "      <td>George Augustus Baker Jr.</td>\n",
       "      <td>Oil on canvas</td>\n",
       "      <td>Portraits|Women</td>\n",
       "      <td>10093</td>\n",
       "      <td>This portrait has an unusual oak frame that ap...</td>\n",
       "      <td>[portraits, women]</td>\n",
       "      <td>[0.0, 1.0, 1.0, 0.0, 0.0, 0.0, 0.0, 0.0, 0.0, ...</td>\n",
       "    </tr>\n",
       "  </tbody>\n",
       "</table>\n",
       "</div>"
      ],
      "text/plain": [
       "        Filename                        Title                     Artist  \\\n",
       "19  ap40.144.jpg  Mrs. William Loring Andrews  George Augustus Baker Jr.   \n",
       "\n",
       "           Medium             Tags  MET_Object_ID  \\\n",
       "19  Oil on canvas  Portraits|Women          10093   \n",
       "\n",
       "                                          Description             TagList  \\\n",
       "19  This portrait has an unusual oak frame that ap...  [portraits, women]   \n",
       "\n",
       "                                              TagVect  \n",
       "19  [0.0, 1.0, 1.0, 0.0, 0.0, 0.0, 0.0, 0.0, 0.0, ...  "
      ]
     },
     "execution_count": 32,
     "metadata": {},
     "output_type": "execute_result"
    }
   ],
   "source": [
    "data[data[\"Filename\"] == 'ap40.144.jpg']"
   ]
  },
  {
   "cell_type": "code",
   "execution_count": 16,
   "metadata": {},
   "outputs": [],
   "source": [
    "'''\n",
    "Filter data for those matching some set of tags\n",
    "'''\n",
    "def get_file_list_for_tag(tags):\n",
    "    filt = data[\"TagList\"].apply(lambda x: np.any([tag in x for tag in tags]))\n",
    "    return data[filt]\n",
    "\n",
    "'''\n",
    "Copy filtered files\n",
    "'''\n",
    "def copy_tagged(tagged, num):\n",
    "    i = 0\n",
    "    domCols = np.zeros((num, 3))\n",
    "    for filename in tagged[\"Filename\"].tolist()[:num]:\n",
    "        if len(os.listdir(GANDataPath)) < num:\n",
    "            shutil.copy(os.path.join(dataPath, filename), \n",
    "                        os.path.join(GANDataPath, \"img_align_celeba\", str(i).zfill(4) + \".jpg\"))\n",
    "            domCols[i] = get_dom_col(dataPath, filename)\n",
    "            i += 1\n",
    "    np.savetxt(os.path.join(GANDataPath, \"DomCols.txt\"), domCols, fmt='%f')\n",
    "    np.savetxt(os.path.join(GANDataPath, \"TagVects.txt\"), tagged[\"TagVect\"].tolist()[:num], fmt='%u') \n",
    "    \n",
    "            \n",
    "        \n",
    "'''\n",
    "randomly pick an image\n",
    "'''\n",
    "def pick_img(dataPath, tagged):\n",
    "    randFile = random.choice(tagged['Filename'].tolist())\n",
    "    img = cv2.imread(os.path.join(dataPath, randFile))\n",
    "    return img\n",
    "\n",
    "'''\n",
    "get image at an index\n",
    "'''\n",
    "def get_img(dataPath, tagged, i):\n",
    "    file = tagged['Filename'].tolist()[i]\n",
    "    img = cv2.imread(os.path.join(dataPath, file))\n",
    "    return img\n",
    "\n",
    "'''\n",
    "Use numpy bincount to get the most common bgr color in the image\n",
    "'''\n",
    "def bincount(img):\n",
    "    img2D = img.reshape(-1, img.shape[-1])\n",
    "    col_range = (256, 256, 256) # generically : a2D.max(0)+1\n",
    "    img1D = np.ravel_multi_index(img2D.T, col_range)\n",
    "    return np.unravel_index(np.bincount(img1D).argmax(), col_range)\n",
    "\n",
    "'''\n",
    "Given a filename and a quantization factor, read in the corresponding image,\n",
    "quantize it, fidn the dominant color of the \n",
    "'''\n",
    "def get_dom_col(dataPath, imgname, quant=20):\n",
    "    img = cv2.imread(os.path.join(dataPath, imgname))\n",
    "    img = cv2.cvtColor(img, cv2.COLOR_BGR2RGB)\n",
    "    img_quantized = img // quant\n",
    "    img_quantized *= quant\n",
    "    domCol = bincount(img_quantized)\n",
    "    return np.array(domCol, \"uint8\") / ((255//quant) * quant)"
   ]
  },
  {
   "cell_type": "code",
   "execution_count": null,
   "metadata": {},
   "outputs": [],
   "source": [
    "p = get_file_list_for_tag(['portraits', 'men', 'women', 'boys', 'girls', 'angels', 'children', 'nudes'])"
   ]
  },
  {
   "cell_type": "code",
   "execution_count": 19,
   "metadata": {},
   "outputs": [],
   "source": [
    "#len(p)\n",
    "copy_tagged(data, 1776)"
   ]
  },
  {
   "cell_type": "code",
   "execution_count": 13,
   "metadata": {},
   "outputs": [
    {
     "data": {
      "text/plain": [
       "1781"
      ]
     },
     "execution_count": 13,
     "metadata": {},
     "output_type": "execute_result"
    }
   ],
   "source": [
    "len(data)"
   ]
  },
  {
   "cell_type": "code",
   "execution_count": null,
   "metadata": {},
   "outputs": [],
   "source": [
    "len(p[\"Filename\"].tolist()[:1184])"
   ]
  },
  {
   "cell_type": "code",
   "execution_count": null,
   "metadata": {},
   "outputs": [],
   "source": [
    "p[\"Title\"]"
   ]
  },
  {
   "cell_type": "code",
   "execution_count": null,
   "metadata": {},
   "outputs": [],
   "source": [
    "img = get_img(dataPath, p, 0)\n",
    "img = cv2.cvtColor(img, cv2.COLOR_BGR2RGB)\n",
    "plt.imshow(img)"
   ]
  },
  {
   "cell_type": "code",
   "execution_count": null,
   "metadata": {},
   "outputs": [],
   "source": [
    "img_quantized = img // 20\n",
    "img_quantized *= 20\n",
    "plt.imshow(img_quantized)"
   ]
  },
  {
   "cell_type": "code",
   "execution_count": null,
   "metadata": {},
   "outputs": [],
   "source": [
    "domCol = bincount_app(img_quantized)"
   ]
  },
  {
   "cell_type": "code",
   "execution_count": null,
   "metadata": {},
   "outputs": [],
   "source": [
    "np.array(domCol, \"uint8\")"
   ]
  },
  {
   "cell_type": "code",
   "execution_count": null,
   "metadata": {},
   "outputs": [],
   "source": [
    "colImg = np.ones_like(img) * domCol\n",
    "plt.imshow(colImg)"
   ]
  },
  {
   "cell_type": "markdown",
   "metadata": {},
   "source": [
    "Sent embedding stuff below:"
   ]
  },
  {
   "cell_type": "code",
   "execution_count": 35,
   "metadata": {},
   "outputs": [],
   "source": [
    "model = SentenceTransformer('bert-base-nli-mean-tokens')"
   ]
  },
  {
   "cell_type": "code",
   "execution_count": 37,
   "metadata": {},
   "outputs": [],
   "source": [
    "data[\"Title Embedding\"] = data[\"Title\"].apply(model.encode)"
   ]
  },
  {
   "cell_type": "code",
   "execution_count": 45,
   "metadata": {},
   "outputs": [],
   "source": [
    "np.savetxt(os.path.join(GANDataPath, \"TitleVects.txt\"), data[\"Title Embedding\"].values.tolist()[:1776], fmt='%f')"
   ]
  },
  {
   "cell_type": "code",
   "execution_count": 46,
   "metadata": {},
   "outputs": [
    {
     "data": {
      "text/plain": [
       "(768,)"
      ]
     },
     "execution_count": 46,
     "metadata": {},
     "output_type": "execute_result"
    }
   ],
   "source": [
    "data[\"Title Embedding\"].iloc[0].shape"
   ]
  },
  {
   "cell_type": "code",
   "execution_count": null,
   "metadata": {},
   "outputs": [],
   "source": []
  }
 ],
 "metadata": {
  "kernelspec": {
   "display_name": "Python 3",
   "language": "python",
   "name": "python3"
  },
  "language_info": {
   "codemirror_mode": {
    "name": "ipython",
    "version": 3
   },
   "file_extension": ".py",
   "mimetype": "text/x-python",
   "name": "python",
   "nbconvert_exporter": "python",
   "pygments_lexer": "ipython3",
   "version": "3.8.5"
  }
 },
 "nbformat": 4,
 "nbformat_minor": 4
}
